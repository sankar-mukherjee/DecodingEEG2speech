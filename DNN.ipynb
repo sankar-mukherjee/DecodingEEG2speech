{
 "cells": [
  {
   "cell_type": "code",
   "execution_count": 0,
   "metadata": {
    "cellView": "form",
    "code_folding": [
     0
    ],
    "colab": {
     "base_uri": "https://localhost:8080/",
     "height": 54
    },
    "colab_type": "code",
    "id": "o_SywfinI_SA",
    "outputId": "53a1f497-9e91-4c48-bf33-ec2fb88edcfa"
   },
   "outputs": [
    {
     "name": "stdout",
     "output_type": "stream",
     "text": [
      "Drive already mounted at /content/drive; to attempt to forcibly remount, call drive.mount(\"/content/drive\", force_remount=True).\n"
     ]
    }
   ],
   "source": [
    "#@title initialized\n",
    "import os\n",
    "import scipy.io\n",
    "import sys\n",
    "import numpy as np\n",
    "from sklearn.metrics import mean_squared_error\n",
    "from math import sqrt\n",
    "import pandas as pd\n",
    "from IPython.display import clear_output\n",
    "import librosa\n",
    "from matplotlib import pyplot as plt\n",
    "from sklearn.model_selection import train_test_split\n",
    "import pickle\n",
    "import tensorflow as tf \n",
    "from datetime import datetime\n",
    "from google.colab import drive\n",
    "drive.mount('/content/drive')\n",
    "\n",
    "data_path = '/content/drive/My Drive/Colab Notebooks/acoustic-articulatory'"
   ]
  },
  {
   "cell_type": "code",
   "execution_count": 0,
   "metadata": {
    "cellView": "form",
    "code_folding": [
     0
    ],
    "colab": {
     "base_uri": "https://localhost:8080/",
     "height": 34
    },
    "colab_type": "code",
    "id": "kHb91vE1JDKA",
    "outputId": "658aecd6-a67c-4ca0-bcc9-e701835aa91b"
   },
   "outputs": [
    {
     "data": {
      "text/plain": [
       "'context-0-node-300-layer-4-lr-0.01'"
      ]
     },
     "execution_count": 73,
     "metadata": {
      "tags": []
     },
     "output_type": "execute_result"
    }
   ],
   "source": [
    "#@title parameters\n",
    "\n",
    "ExpNum = 1\n",
    "threshold = 0.0\n",
    "frame_context = 0\n",
    "\n",
    "# ----------------------------Data parameters---------------------------------\n",
    "\n",
    "Number_of_Files = 1\n",
    "num_examples_per_epoch = 61155\n",
    "FeaturesDimension = 39\n",
    "n_targets = 21\n",
    "\n",
    "\n",
    "# ---------------------------Network parameters--------------------------------------------\n",
    "name_optimizer = 'momentum'\n",
    "\n",
    "if name_optimizer not in ['adam', 'momentum', 'GD']:\n",
    "    print('Optimizer not found.')\n",
    "    print('Allowed choices : adam, momentum, GD.')\n",
    "    sys.exit()\n",
    "\n",
    "input_data = 'Audio'\n",
    "learning_rate = 0.01\n",
    "batch_size = 405\n",
    "batch_size_v = 416\n",
    "\n",
    "num_epochs = 40\n",
    "n_nodes = 300\n",
    "activation = tf.nn.relu\n",
    "biases_initialization = 0.1\n",
    "\n",
    "saveFileName='context-'+str(frame_context)+'-node-'+str(n_nodes)+'-layer-4'+'-lr-'+str(learning_rate)\n",
    "saveFileName"
   ]
  },
  {
   "cell_type": "code",
   "execution_count": 0,
   "metadata": {
    "cellView": "form",
    "code_folding": [
     0
    ],
    "colab": {
     "base_uri": "https://localhost:8080/",
     "height": 51
    },
    "colab_type": "code",
    "id": "odxnXZvXJFOi",
    "outputId": "4ff5aa27-d5e3-460e-c853-0a6c6d39bbd4"
   },
   "outputs": [
    {
     "name": "stdout",
     "output_type": "stream",
     "text": [
      "Train shape:  (61155, 39)\n",
      "Test shape:  (26208, 39)\n"
     ]
    }
   ],
   "source": [
    "#@title load data and split train validation set\n",
    "# \n",
    "save_path_x = data_path + '/data/mfcc_contextSize-'+str(frame_context)+'.npy'\n",
    "save_path_y = data_path + '/data/raw_ema.npy'\n",
    "\n",
    "X = np.load(save_path_x).T\n",
    "Y = np.load(save_path_y).T\n",
    "\n",
    "\n",
    "# Split into training and testing data\n",
    "train_features, valid_features, train_labels, valid_labels = train_test_split(X, Y, test_size = 0.3,random_state = 42)\n",
    "valid_features = valid_features[2:,:]\n",
    "valid_labels   = valid_labels[2:,:]\n",
    "\n",
    "M = np.mean(train_features,axis=0)\n",
    "N = np.std(train_features,axis=0)\n",
    "\n",
    "train_features = (train_features-M)/N\n",
    "valid_features = (valid_features-M)/N\n",
    "\n",
    "\n",
    "\n",
    "M = np.mean(train_labels,axis=0)\n",
    "N = np.std(train_labels,axis=0)\n",
    "\n",
    "train_labels = (train_labels-M)/N\n",
    "valid_labels = (valid_labels-M)/N\n",
    "\n",
    "\n",
    "print('Train shape: ', train_features.shape)\n",
    "print('Test shape: ', valid_features.shape)"
   ]
  },
  {
   "cell_type": "code",
   "execution_count": 0,
   "metadata": {
    "cellView": "form",
    "code_folding": [
     0
    ],
    "colab": {},
    "colab_type": "code",
    "id": "DrRbAtr4JGvq"
   },
   "outputs": [],
   "source": [
    "#@title Saver directories\n",
    "# \n",
    "\n",
    "data_dir = data_path + '/DATA/DNNs/' + input_data + '_NormalizedMotors_Ws' + str(frame_context) + '/'\n",
    "checkpoints_dir = data_path + '/Results/DNNs/' + input_data + '2AFs/checkpoints/exp' \\\n",
    "                    + str(ExpNum) + '/'\n",
    "tensorboard_dir = data_path + '/Results/DNNs/' + input_data + '2AFs/tensorboard/exp' + \\\n",
    "                    str(ExpNum) + '/'\n",
    "traininglog_dir = data_path + '/Results/DNNs/' + input_data + '2AFs/training_logs/'\n",
    "\n",
    "if not os.path.exists(checkpoints_dir):\n",
    "    os.makedirs(checkpoints_dir)\n",
    "if not os.path.exists(tensorboard_dir):\n",
    "    os.makedirs(tensorboard_dir)\n",
    "if not os.path.exists(traininglog_dir):\n",
    "    os.makedirs(traininglog_dir)\n",
    "\n"
   ]
  },
  {
   "cell_type": "code",
   "execution_count": 0,
   "metadata": {
    "cellView": "form",
    "code_folding": [
     0
    ],
    "colab": {},
    "colab_type": "code",
    "id": "2-umDL6AJLDP"
   },
   "outputs": [],
   "source": [
    "#@title network structure\n",
    "# \n",
    "def rmse(x, y):\n",
    "    mse = mean_squared_error(x, y)\n",
    "    return sqrt(mse)\n",
    "\n",
    "def correlation(x, y):\n",
    "    cm = np.corrcoef(x, y, rowvar=0)\n",
    "    d = np.diagonal(cm, offset=x.shape[1])\n",
    "    corr_mean = np.mean(d)\n",
    "    return corr_mean\n",
    "\n",
    "def inference(examples, input_dim, nodes, classes, act, biases_init):\n",
    "    with tf.variable_scope('layer_1'):\n",
    "        layer_1_weights = tf.get_variable('weights', [input_dim, nodes],\n",
    "                                          initializer=tf.contrib.layers.xavier_initializer())\n",
    "        layer_1_biases = tf.get_variable('biases', initializer=tf.constant(biases_init, shape=[nodes]))\n",
    "\n",
    "        layer_1 = act(tf.add(tf.matmul(examples, layer_1_weights), layer_1_biases))\n",
    "\n",
    "        tf.summary.histogram('weights', layer_1_weights)\n",
    "        tf.summary.histogram('biases', layer_1_biases)\n",
    "        tf.summary.histogram('activation', layer_1)\n",
    "\n",
    "    with tf.variable_scope('layer_2'):\n",
    "        layer_2_weights = tf.get_variable('weights', [nodes, nodes], initializer=tf.contrib.layers.xavier_initializer())\n",
    "        layer_2_biases = tf.get_variable('biases', initializer=tf.constant(biases_init, shape=[nodes]))\n",
    "\n",
    "        layer_2 = act(tf.add(tf.matmul(layer_1, layer_2_weights), layer_2_biases))\n",
    "\n",
    "        tf.summary.histogram('weights', layer_2_weights)\n",
    "        tf.summary.histogram('biases', layer_2_biases)\n",
    "        tf.summary.histogram('activation', layer_2)\n",
    "\n",
    "    with tf.variable_scope('layer_3'):\n",
    "        layer_3_weights = tf.get_variable('weights', [nodes, nodes], initializer=tf.contrib.layers.xavier_initializer())\n",
    "        layer_3_biases = tf.get_variable('biases', initializer=tf.constant(biases_init, shape=[nodes]))\n",
    "\n",
    "        layer_3 = act(tf.add(tf.matmul(layer_2, layer_3_weights), layer_3_biases))\n",
    "\n",
    "        tf.summary.histogram('weights', layer_3_weights)\n",
    "        tf.summary.histogram('biases', layer_3_biases)\n",
    "        tf.summary.histogram('activation', layer_3)\n",
    "\n",
    "    with tf.variable_scope('layer_4'):\n",
    "        layer_4_weights = tf.get_variable('weights', [nodes, nodes], initializer=tf.contrib.layers.xavier_initializer())\n",
    "        layer_4_biases = tf.get_variable('biases', initializer=tf.constant(biases_init, shape=[nodes]))\n",
    "\n",
    "        layer_4 = act(tf.add(tf.matmul(layer_3, layer_4_weights), layer_4_biases))\n",
    "\n",
    "        tf.summary.histogram('weights', layer_4_weights)\n",
    "        tf.summary.histogram('biases', layer_4_biases)\n",
    "        tf.summary.histogram('activation', layer_4)\n",
    "\n",
    "    with tf.variable_scope('output'):\n",
    "        output_weights = tf.get_variable('weights', [nodes, classes],\n",
    "                                         initializer=tf.contrib.layers.xavier_initializer())\n",
    "        output_biases = tf.get_variable('biases', initializer=tf.constant(biases_init, shape=[classes]))\n",
    "        output = tf.add(tf.matmul(layer_4, output_weights), output_biases)\n",
    "\n",
    "        tf.summary.histogram('weights', output_weights)\n",
    "        tf.summary.histogram('biases', output_biases)\n",
    "        tf.summary.histogram('activation', output)\n",
    "\n",
    "    return output"
   ]
  },
  {
   "cell_type": "code",
   "execution_count": 0,
   "metadata": {
    "cellView": "form",
    "code_folding": [
     0
    ],
    "colab": {},
    "colab_type": "code",
    "id": "UQ0Vwm_rJM5r"
   },
   "outputs": [],
   "source": [
    "#@title traning\n",
    "# \n",
    "def training_runner():\n",
    "    A = []\n",
    "    with tf.Graph().as_default():\n",
    "        with tf.device('/cpu:0'):\n",
    "            with tf.variable_scope('traning_variables'):\n",
    "                traning_variables = tf.placeholder('float', [None, train_features.shape[1]], name='traning_variables')\n",
    "                print('Placeholder initialized.')\n",
    "\n",
    "            with tf.variable_scope('traning_variables_labels'):\n",
    "                traning_variables_labels = tf.placeholder('float', [None, train_labels.shape[1]], name='traning_variables_labels')\n",
    "                print('Placeholder initialized.')\n",
    "\n",
    "            with tf.variable_scope('validation_variables'):\n",
    "                validation_variables = tf.placeholder('float', [None, valid_features.shape[1]], name='validation_variables')\n",
    "                print('Placeholder initialized.')\n",
    "\n",
    "            with tf.variable_scope('validation_variables_labels'):\n",
    "                validation_variables_labels = tf.placeholder('float', [None, valid_labels.shape[1]], name='validation_variables_labels')\n",
    "                print('Placeholder initialized.')\n",
    "\n",
    "        with tf.device('/gpu:0'):          \n",
    "            with tf.variable_scope('training_graph') as train_scope:\n",
    "                logits = inference(traning_variables, train_features.shape[1],\n",
    "                                   n_nodes, n_targets, activation, biases_initialization)\n",
    "\n",
    "                # COST FUNCTION:\n",
    "                with tf.variable_scope('cost'):\n",
    "                    cost = tf.reduce_mean(tf.squared_difference(logits, traning_variables_labels))\n",
    "                    tf.summary.scalar('cost', cost)\n",
    "\n",
    "                with tf.variable_scope('optimization'):\n",
    "                    # METHOD OF MINIMIZATION:\n",
    "                    if name_optimizer == 'adam':\n",
    "                      optimizer = tf.train.AdamOptimizer().minimize(cost)\n",
    "                    elif name_optimizer == 'momentum':\n",
    "                      optimizer = tf.train.MomentumOptimizer(learning_rate, 0.9).minimize(cost)\n",
    "                    elif name_optimizer == 'GD':\n",
    "                      optimizer = tf.train.GradientDescentOptimizer(learning_rate=learning_rate).minimize(cost)\n",
    "\n",
    "                with tf.name_scope('validation_graph'):\n",
    "                    with tf.variable_scope(train_scope, reuse=True):\n",
    "                        validation_logits = inference(validation_variables, valid_features.shape[1],\n",
    "                                       n_nodes, n_targets, activation, biases_initialization)\n",
    "\n",
    "                    \n",
    "\n",
    "\n",
    "        # Merge summaries for tensorboard\n",
    "        merged = tf.summary.merge_all()\n",
    "\n",
    "        config = tf.ConfigProto(allow_soft_placement=True, log_device_placement=False)\n",
    "        config.gpu_options.allow_growth = True        \n",
    "\n",
    "        # OPS to save and restore all the variables.\n",
    "        saver = tf.train.Saver()\n",
    "\n",
    "        # VARIABLES INITIALIZER\n",
    "        init_op = tf.group(tf.global_variables_initializer(), tf.local_variables_initializer())\n",
    "\n",
    "\n",
    "        # Create a session for running operations in the Graph.\n",
    "        with tf.Session(config=config) as sess:\n",
    "            train_writer = tf.summary.FileWriter(tensorboard_dir, sess.graph)\n",
    "            # Initialize all the variables (including the epoch counter, hidden somewhere).\n",
    "            sess.run(init_op)\n",
    "\n",
    "            ############### start TRAINING ##############\n",
    "            for epoch in range(num_epochs):    \n",
    "\n",
    "                ############### TRAINING ##############\n",
    "                epoch_cost = 0.0\n",
    "                permS = np.random.permutation(train_features.shape[0])\n",
    "                counter = 0\n",
    "                for iter in range(0,train_features.shape[0]-batch_size,batch_size):\n",
    "                    batch_x= train_features[permS[iter:iter+batch_size],:]\n",
    "                    batch_y= train_labels[permS[iter:iter+batch_size],:]\n",
    "                    _, c=  sess.run([optimizer,cost],feed_dict={traning_variables: batch_x, traning_variables_labels:batch_y})\n",
    "                    epoch_cost+=c\n",
    "                    counter = counter +1\n",
    "                epoch_cost = epoch_cost/counter\n",
    "\n",
    "                ############## validation ##########################\n",
    "                permSV = np.random.permutation(valid_features.shape[0])\n",
    "                counter = 0\n",
    "                corr_test = 0.0\n",
    "                err_test = 0.0\n",
    "                epoch_costV = 0\n",
    "                for iter in range(0,valid_features.shape[0]-batch_size_v,batch_size_v):\n",
    "                    batch_v_x= valid_features[permSV[iter:iter+batch_size_v],:]\n",
    "                    batch_v_y= valid_labels[permSV[iter:iter+batch_size_v],:]\n",
    "\n",
    "                    prediction =  sess.run(validation_logits,feed_dict={validation_variables: batch_v_x})\n",
    "                    c = sess.run(tf.reduce_mean(tf.squared_difference(prediction, batch_v_y)))\n",
    "                    epoch_costV+=c\n",
    "\n",
    "                    err = rmse(prediction, batch_v_y)\n",
    "                    err_test += err\n",
    "                    corr = correlation(prediction, batch_v_y)\n",
    "                    corr_test += corr\n",
    "                    counter = counter +1\n",
    "                epoch_costV = epoch_costV/counter\n",
    "                corr_test = corr_test/counter\n",
    "                err_test = err_test/counter\n",
    "\n",
    "\n",
    "\n",
    "\n",
    "\n",
    "                train_loss = np.round(epoch_cost, decimals=4)\n",
    "                validation_loss = np.round(epoch_costV, decimals=4)\n",
    "                corr_test = np.round(corr_test, decimals=4)\n",
    "                err_test = np.round(err_test, decimals=4)\n",
    "\n",
    "                df = pd.DataFrame({'Epoch':[epoch+1],'train_loss':train_loss,'validation_loss':validation_loss,\n",
    "                                   'corr':corr_test,'RMSE':err_test})\n",
    "                A.append(df)\n",
    "\n",
    "                print('Epoch',epoch+1,'/', num_epochs,'loss:',train_loss,' validation - loss:',\n",
    "                      validation_loss,' corr:',corr_test,' rmse:',err_test)\n",
    "\n",
    "\n",
    "\n",
    "              #summarize to tensorboard\n",
    "              #summary = sess.run(merged)\n",
    "              #train_writer.add_summary(summary, epoch)              \n",
    "              #train_writer.flush()\n",
    "\n",
    "\n",
    "            save_path = saver.save(sess, checkpoints_dir + 'model_end.ckpt')\n",
    "            print(\"model saved in file: %s\" % save_path)           \n",
    "\n",
    "\n",
    "            ######################################################################################################\n",
    "            # Print useful info and a log file   \n",
    "            trainingLogFile = open(traininglog_dir + 'TrainingExperiment' + str(ExpNum) + '.txt', 'w')\n",
    "            print('')\n",
    "            print('## EXPERIMENT NUMBER ', ExpNum)\n",
    "            trainingLogFile.write('# EXPERIMENT NUMBER {:d} \\n'.format(ExpNum))\n",
    "            print('## number of hidden layers : ', 5)\n",
    "            trainingLogFile.write('## number of hidden layers : {:d} \\n'.format(5))\n",
    "            print('## number of neurons : ', n_nodes)\n",
    "            trainingLogFile.write('## number of neurons : {:d} \\n'.format(n_nodes))\n",
    "            print('## window size : ', frame_context)\n",
    "            trainingLogFile.write('## Ws : ' + str(frame_context))\n",
    "            print('## optimizer : ' + name_optimizer)\n",
    "            trainingLogFile.write('## optimizer : ' + name_optimizer + '\\n')\n",
    "            print('## learning rate: ' + str(learning_rate))\n",
    "            trainingLogFile.write('## learning rate : ' + str(learning_rate) + '\\n')\n",
    "            print('## number of epochs : ', num_epochs)\n",
    "            trainingLogFile.write('## number of epochs : {:d} \\n'.format(num_epochs))\n",
    "            print('## batch size : ', batch_size)\n",
    "            trainingLogFile.write('## batch size : {:d} \\n'.format(batch_size))\n",
    "            print('## threshold early stopping : ', threshold)\n",
    "            trainingLogFile.write('## Early stopping with threshold {:f} \\n'.format(threshold))\n",
    "            training_log_string = '{}\\t{}\\t{}\\n'.format(frame_context, batch_size, num_epochs)\n",
    "            trainingLogFile.write(training_log_string)\n",
    "            trainingLogFile.close()\n",
    "            ######################################################################################################\n",
    "\n",
    "            \n",
    "    A = pd.concat((A),axis=0)        \n",
    "    return A   "
   ]
  },
  {
   "cell_type": "code",
   "execution_count": 0,
   "metadata": {
    "colab": {},
    "colab_type": "code",
    "id": "jqYibHj8JRDI"
   },
   "outputs": [],
   "source": [
    "df = training_runner()\n",
    "clear_output()"
   ]
  },
  {
   "cell_type": "code",
   "execution_count": 0,
   "metadata": {
    "cellView": "form",
    "code_folding": [
     0
    ],
    "colab": {
     "base_uri": "https://localhost:8080/",
     "height": 424
    },
    "colab_type": "code",
    "id": "4S874XOaLpdC",
    "outputId": "2ae064f2-1108-4274-ddef-f3bb42042df1"
   },
   "outputs": [
    {
     "name": "stderr",
     "output_type": "stream",
     "text": [
      "/usr/local/lib/python3.6/dist-packages/pandas/plotting/_core.py:1716: UserWarning: Pandas doesn't allow columns to be created via a new attribute name - see https://pandas.pydata.org/pandas-docs/stable/indexing.html#attribute-access\n",
      "  series.name = label\n"
     ]
    },
    {
     "data": {
      "image/png": "[encoded data removed]",
      "text/plain": [
       "<Figure size 1080x360 with 2 Axes>"
      ]
     },
     "metadata": {
      "tags": []
     },
     "output_type": "display_data"
    }
   ],
   "source": [
    "#@title plot and save files\n",
    "\n",
    "f, axes = plt.subplots(figsize=(15,5),nrows=1, ncols=2)\n",
    "df.plot(x='Epoch',y=['train_loss','validation_loss'],ax=axes[0])\n",
    "plt.ylim([0.1, 1])\n",
    "df.plot(x='Epoch',y=['RMSE','corr'],ax=axes[1])\n",
    "plt.ylim([0.3, 1])\n",
    "plt.suptitle(saveFileName)\n",
    "\n",
    "save_path = data_path + '/Results/DNNs/'+saveFileName\n",
    "plt.savefig(save_path+'.png')\n",
    "df.to_pickle(save_path+'.pkl')\n"
   ]
  },
  {
   "cell_type": "code",
   "execution_count": 0,
   "metadata": {
    "colab": {},
    "colab_type": "code",
    "id": "t9Rb0ecUZXKw"
   },
   "outputs": [],
   "source": []
  }
 ],
 "metadata": {
  "accelerator": "GPU",
  "colab": {
   "collapsed_sections": [],
   "name": "DNN.ipynb",
   "provenance": [],
   "version": "0.3.2"
  },
  "kernelspec": {
   "display_name": "Python 3",
   "language": "python",
   "name": "python3"
  },
  "language_info": {
   "codemirror_mode": {
    "name": "ipython",
    "version": 3
   },
   "file_extension": ".py",
   "mimetype": "text/x-python",
   "name": "python",
   "nbconvert_exporter": "python",
   "pygments_lexer": "ipython3",
   "version": "3.6.6"
  }
 },
 "nbformat": 4,
 "nbformat_minor": 1
}
